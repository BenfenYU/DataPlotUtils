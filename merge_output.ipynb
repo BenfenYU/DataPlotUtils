{
 "cells": [
  {
   "cell_type": "code",
   "execution_count": 5,
   "metadata": {},
   "outputs": [],
   "source": [
    "import os\n",
    "import glob\n",
    "import json\n",
    "from tqdm import tqdm\n",
    "import multiprocessing\n",
    "from multiprocessing import Pool\n",
    "\n",
    "output_dir = r\"C:\\NotOneDrive\\Data\\Output_3s-624_Run3\\TransientHydraulics\"\n",
    "\n",
    "save_merge_path = os.path.join(output_dir, 'merged_outputs.json')\n",
    "\n",
    "output_paths = [f for f in glob.glob(os.path.join(output_dir, \"*TransientHydraulics.json\"))]"
   ]
  },
  {
   "cell_type": "code",
   "execution_count": 6,
   "metadata": {},
   "outputs": [],
   "source": [
    "def multi_process_merge():\n",
    "    def read_output(output_path):\n",
    "        with open(output_path, \"r\") as f:\n",
    "            output = json.load(f)\n",
    "            q.put(output)\n",
    "            # outputs.append(output)\n",
    "\n",
    "    q = multiprocessing.Queue()\n",
    "    pool = Pool(4)\n",
    "    results = pool.imap(read_output, output_paths)\n",
    "\n",
    "    for result in tqdm(results):\n",
    "        print(result)\n",
    "\n",
    "    pool.close()\n",
    "    pool.join() \n",
    "\n",
    "    outputs = list(q)\n",
    "    outputs.sort(lambda x: x['key'])\n",
    "    with open(save_merge_path, 'w') as f:\n",
    "        json.dump(outputs, f)"
   ]
  },
  {
   "cell_type": "code",
   "execution_count": null,
   "metadata": {},
   "outputs": [],
   "source": [
    "\n",
    "outputs = []\n",
    "for output_path in tqdm(output_paths):\n",
    "    with open(output_path, \"r\") as f:\n",
    "        output = json.load(f)\n",
    "        outputs.append(output)\n"
   ]
  },
  {
   "cell_type": "code",
   "execution_count": 8,
   "metadata": {},
   "outputs": [],
   "source": [
    "outputs_n = [\n",
    "    x\n",
    "    for xs in outputs\n",
    "    for x in xs\n",
    "]\n",
    "\n",
    "outputs_n.sort(key = lambda x: x['Key'])\n",
    "with open(save_merge_path, 'w') as f:\n",
    "    json.dump(outputs_n, f)"
   ]
  }
 ],
 "metadata": {
  "kernelspec": {
   "display_name": "base",
   "language": "python",
   "name": "python3"
  },
  "language_info": {
   "codemirror_mode": {
    "name": "ipython",
    "version": 3
   },
   "file_extension": ".py",
   "mimetype": "text/x-python",
   "name": "python",
   "nbconvert_exporter": "python",
   "pygments_lexer": "ipython3",
   "version": "3.11.9"
  }
 },
 "nbformat": 4,
 "nbformat_minor": 2
}

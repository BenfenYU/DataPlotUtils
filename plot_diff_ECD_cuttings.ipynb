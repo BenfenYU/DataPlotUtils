{
 "cells": [
  {
   "cell_type": "code",
   "execution_count": 10,
   "metadata": {},
   "outputs": [],
   "source": [
    "\n",
    "import pandas as pd\n",
    "\n",
    "\n",
    "path = r\"C:\\NotOneDrive\\Data\\merged_input_output_channels\\BDC-4-02_bha_run1_correct_mud_TransientHydraulics_20240805165848.csv\"\n",
    "outputs = pd.read_csv(path, skiprows=[1])\n",
    "outputs = outputs[['time key', 'ecd at bit', 'ecd at bit no cuttings']]\n",
    "outputs['ecd_diff'] = outputs['ecd at bit'] - outputs['ecd at bit no cuttings']\n",
    "outputs = outputs.dropna()\n",
    "outputs['ecd_normalized'] = outputs['ecd_diff'] / outputs['ecd at bit no cuttings']\n"
   ]
  },
  {
   "cell_type": "code",
   "execution_count": null,
   "metadata": {},
   "outputs": [],
   "source": [
    "\n",
    "import plotly.graph_objects as go\n",
    "\n",
    "fig = go.Figure()\n",
    "\n",
    "fig.add_trace(\n",
    "    go.Scatter(\n",
    "        mode = 'markers',\n",
    "        marker = dict(\n",
    "            size = 1\n",
    "        ),\n",
    "        x=outputs['time key'], \n",
    "        y=outputs['ecd_diff'], \n",
    "        name=\"difference ecd at bit\",\n",
    "        yaxis='y'),\n",
    ")\n",
    "\n",
    "fig.update_layout(\n",
    "    title = fr'BDC401 run 1 RT CHE - ECD with cutting - ECD without cutting',\n",
    "    yaxis=dict(title=dict(text = \"Ecd diff (kg/m3)\", font = dict(size = 20)),),\n",
    "    )\n",
    "\n",
    "fig.show()"
   ]
  },
  {
   "cell_type": "code",
   "execution_count": null,
   "metadata": {},
   "outputs": [],
   "source": [
    "fig = go.Figure()\n",
    "\n",
    "fig.add_trace(\n",
    "    go.Scatter(\n",
    "        mode = 'markers',\n",
    "        marker = dict(\n",
    "            size = 1\n",
    "        ),\n",
    "        x=outputs['time key'], \n",
    "        y=outputs['ecd_normalized'], \n",
    "        name=\"normalized difference ecd at bit\",\n",
    "        yaxis='y'),\n",
    ")\n",
    "\n",
    "fig.update_layout(\n",
    "    title = fr'BDC401 run 1 RT CHE - ECD with cutting - ECD without cutting',\n",
    "    yaxis=dict(title=dict(text = \"normalized Ecd diff\", font = dict(size = 20)),),\n",
    "    )\n",
    "\n",
    "fig.show()"
   ]
  }
 ],
 "metadata": {
  "kernelspec": {
   "display_name": "base",
   "language": "python",
   "name": "python3"
  },
  "language_info": {
   "codemirror_mode": {
    "name": "ipython",
    "version": 3
   },
   "file_extension": ".py",
   "mimetype": "text/x-python",
   "name": "python",
   "nbconvert_exporter": "python",
   "pygments_lexer": "ipython3",
   "version": "3.11.9"
  }
 },
 "nbformat": 4,
 "nbformat_minor": 2
}

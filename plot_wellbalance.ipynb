{
 "cells": [
  {
   "cell_type": "code",
   "execution_count": 7,
   "metadata": {},
   "outputs": [],
   "source": [
    "from pymongo import MongoClient\n",
    "from datetime import datetime"
   ]
  },
  {
   "cell_type": "code",
   "execution_count": null,
   "metadata": {},
   "outputs": [],
   "source": [
    "db_name = 'WellBalance'\n",
    "\n",
    "uri = 'mongodb://localhost:27017'\n",
    "client = MongoClient(uri)\n",
    "database = client.get_database(db_name)\n",
    "collection_names = database.list_collection_names()\n",
    "collection = database.get_collection(collection_names[0])\n",
    "\n",
    "pipeline = [\n",
    "   {\n",
    "      \"$addFields\": {\n",
    "         \"time\": {\n",
    "             '$toDate': \"$k\"\n",
    "         }\n",
    "      }\n",
    "   }, \n",
    "   {\n",
    "       '$match': {\n",
    "           'time':{\n",
    "            '$gt': datetime(2023, 11, 18)\n",
    "           }\n",
    "       }\n",
    "   }\n",
    "]\n",
    "results = collection.aggregate(pipeline)\n",
    "for i, r in enumerate(results):\n",
    "    print(r)\n",
    "    if i > 10:\n",
    "        break"
   ]
  },
  {
   "cell_type": "code",
   "execution_count": null,
   "metadata": {},
   "outputs": [],
   "source": []
  }
 ],
 "metadata": {
  "kernelspec": {
   "display_name": "base",
   "language": "python",
   "name": "python3"
  },
  "language_info": {
   "codemirror_mode": {
    "name": "ipython",
    "version": 3
   },
   "file_extension": ".py",
   "mimetype": "text/x-python",
   "name": "python",
   "nbconvert_exporter": "python",
   "pygments_lexer": "ipython3",
   "version": "3.11.9"
  }
 },
 "nbformat": 4,
 "nbformat_minor": 2
}

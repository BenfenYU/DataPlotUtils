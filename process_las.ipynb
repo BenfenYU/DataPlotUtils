{
 "cells": [
  {
   "cell_type": "code",
   "execution_count": 14,
   "metadata": {},
   "outputs": [],
   "source": [
    "\n",
    "import pandas as pd\n",
    "import numpy as np\n",
    "import lasio\n",
    "\n",
    "las = lasio.read(r\"C:\\Users\\Jyu20\\Downloads\\3S-617 LAS\\3. LAS\\Drilling Mechanic\\Time\\3S-617 Drilling Mechanics Time Data LWD003.las\")\n",
    "las = las.df()"
   ]
  },
  {
   "cell_type": "code",
   "execution_count": 15,
   "metadata": {},
   "outputs": [
    {
     "name": "stdout",
     "output_type": "stream",
     "text": [
      "['TIME', 'AZIM', 'BHD', 'BIT_DEPTH', 'BLKA', 'BLKP', 'DEPTH', 'DLS', 'DRTIME', 'HDTH', 'HKLA', 'INCL', 'MWTI', 'PPTIME', 'ROP', 'ROP5', 'ROPI', 'RPM', 'SPM1', 'SPM2', 'SPPA', 'STOR', 'SWOB', 'TFLO', 'TSPM', 'TVD', 'TVDE', 'TVDSS', 'PVEL', 'DCAV', 'DCHO', 'SHKL', 'DHAP', 'DHAT', 'ECD', 'ECD_DEP', 'ECD_TVD', 'ESD', 'ESD_MAX', 'ESD_MIN', 'AJAM', 'AZIM_CONT:1', 'CRPM', 'GR:1', 'GR_CAL', 'GTF:1', 'INCL_CONT:1', 'MTF:1', 'NRPM', 'SHKR:1', 'SHKRSK:1', 'STICK', 'STICKRATIO', 'STUCK:1', 'TRPM', 'AZIM_CONT:2', 'GR:2', 'GTF:2', 'INCL_CONT:2', 'MTF:2', 'SHKR:2', 'SHKRSK:2', 'STKSLP', 'STUCK:2']\n"
     ]
    }
   ],
   "source": [
    "print(list(las.keys()))\n",
    "las.to_csv(r\"C:\\Users\\Jyu20\\Downloads\\test_617.csv\")"
   ]
  }
 ],
 "metadata": {
  "kernelspec": {
   "display_name": "base",
   "language": "python",
   "name": "python3"
  },
  "language_info": {
   "codemirror_mode": {
    "name": "ipython",
    "version": 3
   },
   "file_extension": ".py",
   "mimetype": "text/x-python",
   "name": "python",
   "nbconvert_exporter": "python",
   "pygments_lexer": "ipython3",
   "version": "3.11.9"
  }
 },
 "nbformat": 4,
 "nbformat_minor": 2
}

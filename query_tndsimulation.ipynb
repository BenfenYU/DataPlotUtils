{
 "cells": [
  {
   "cell_type": "code",
   "execution_count": null,
   "metadata": {},
   "outputs": [],
   "source": [
    "\n",
    "import json\n",
    "import statistics\n",
    "from pymongo import MongoClient\n",
    "from datetime import datetime\n",
    "import pandas as pd\n",
    "from tqdm import tqdm\n",
    "\n",
    "from query_utils import query_tnd_simulation\n",
    "\n",
    "well_name = 'BDC-4-02_bha_run5_20240802094250'\n",
    "save_path = fr'C:\\NotOneDrive\\Data\\merged_input_output_channels\\{well_name}_TndSimulation.csv'\n",
    "db_name = 'TndSimulation'\n",
    "uri = 'mongodb://localhost:27017'\n",
    "\n",
    "profiles = query_tnd_simulation(uri, db_name, well_name)\n",
    "profiles.to_csv(save_path, index=False)"
   ]
  }
 ],
 "metadata": {
  "kernelspec": {
   "display_name": "base",
   "language": "python",
   "name": "python3"
  },
  "language_info": {
   "codemirror_mode": {
    "name": "ipython",
    "version": 3
   },
   "file_extension": ".py",
   "mimetype": "text/x-python",
   "name": "python",
   "nbconvert_exporter": "python",
   "pygments_lexer": "ipython3",
   "version": "3.11.9"
  }
 },
 "nbformat": 4,
 "nbformat_minor": 2
}
